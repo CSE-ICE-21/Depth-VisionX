{
 "cells": [
  {
   "cell_type": "code",
   "execution_count": 18,
   "metadata": {},
   "outputs": [],
   "source": [
    "import cv2 as cv\n",
    "import numpy as np\n",
    "import urllib.request"
   ]
  },
  {
   "cell_type": "markdown",
   "metadata": {},
   "source": [
    "# For USB cameras"
   ]
  },
  {
   "cell_type": "code",
   "execution_count": 14,
   "metadata": {},
   "outputs": [],
   "source": [
    "cap_left = cv.VideoCapture(2)\n",
    "cap_right = cv.VideoCapture(0)\n",
    "\n",
    "num = 0\n",
    "while cap_left.isOpened() and cap_right.isOpened():\n",
    "\n",
    "    succes1, img = cap_left.read()\n",
    "    succes2, img2 = cap_right.read()\n",
    "\n",
    "    k = cv.waitKey(5)\n",
    "\n",
    "    if k == ord('q'):\n",
    "        break\n",
    "    elif k == ord('s'):  # wait for 's' key to save and exit\n",
    "        cv.imwrite('USB/StereoLeft/imageL' + str(num) + '.png', img)\n",
    "        cv.imwrite('USB/StereoRight/imageR' + str(num) + '.png', img2)\n",
    "        print(\"images saved!\")\n",
    "        num += 1\n",
    "\n",
    "    cv.imshow('Img Left', img)\n",
    "    cv.imshow('Img Right', img2)\n",
    "\n",
    "# Release and destroy all windows before terminations\n",
    "cap_left.release()\n",
    "cap_right.release()\n",
    "\n",
    "cv.destroyAllWindows()"
   ]
  },
  {
   "cell_type": "markdown",
   "metadata": {},
   "source": [
    "# For ESP Cameras"
   ]
  },
  {
   "cell_type": "code",
   "execution_count": 19,
   "metadata": {},
   "outputs": [
    {
     "name": "stdout",
     "output_type": "stream",
     "text": [
      "images saved!\n",
      "images saved!\n"
     ]
    }
   ],
   "source": [
    "left_url = 'http://192.168.247.216/cam-hi.jpg'\n",
    "right_url = 'http://192.168.247.172/cam-hi.jpg'\n",
    "\n",
    "num = 0\n",
    "while True:\n",
    "\n",
    "    l_img_resp=urllib.request.urlopen(left_url)\n",
    "    r_img_resp=urllib.request.urlopen(right_url)\n",
    "\n",
    "    l_imgnp=np.array(bytearray(l_img_resp.read()),dtype=np.uint8)\n",
    "    r_imgnp=np.array(bytearray(r_img_resp.read()),dtype=np.uint8)\n",
    "\n",
    "    l_img = cv.imdecode(l_imgnp,-1)\n",
    "    r_img = cv.imdecode(r_imgnp,-1)\n",
    "\n",
    "    k = cv.waitKey(5)\n",
    "\n",
    "    if k == ord('q'):\n",
    "        break\n",
    "    elif k == ord('s'):  # wait for 's' key to save and exit\n",
    "        cv.imwrite('sample/imageL' + str(num) + '.png', l_img)\n",
    "        cv.imwrite('sample/imageR' + str(num) + '.png', r_img)\n",
    "        print(\"images saved!\")\n",
    "        num += 1\n",
    "\n",
    "    cv.imshow('Img Left', l_img)\n",
    "    cv.imshow('Img Right', r_img)\n",
    "\n",
    "cv.destroyAllWindows()\n"
   ]
  }
 ],
 "metadata": {
  "kernelspec": {
   "display_name": "base",
   "language": "python",
   "name": "python3"
  },
  "language_info": {
   "codemirror_mode": {
    "name": "ipython",
    "version": 3
   },
   "file_extension": ".py",
   "mimetype": "text/x-python",
   "name": "python",
   "nbconvert_exporter": "python",
   "pygments_lexer": "ipython3",
   "version": "3.12.3"
  }
 },
 "nbformat": 4,
 "nbformat_minor": 2
}
