{
 "cells": [
  {
   "cell_type": "code",
   "execution_count": 2,
   "metadata": {},
   "outputs": [],
   "source": [
    "import cv2 as cv\n",
    "from matplotlib import pyplot as plt\n",
    "import numpy as np\n",
    "import glob\n",
    "import os"
   ]
  },
  {
   "cell_type": "code",
   "execution_count": 5,
   "metadata": {},
   "outputs": [
    {
     "name": "stdout",
     "output_type": "stream",
     "text": [
      "Camera Matrix : \n",
      " [[695.94690533   0.         384.18034585]\n",
      " [  0.         694.224292   318.21984931]\n",
      " [  0.           0.           1.        ]]\n",
      "Distortion Matirx : \n",
      " [[ 3.05070760e-03 -4.92009457e-01  2.12421690e-03  1.03882494e-03\n",
      "   1.82300418e+00]]\n",
      "Report Error (pixels) : 0.1396\n"
     ]
    },
    {
     "data": {
      "text/plain": [
       "(array([[695.94690533,   0.        , 384.18034585],\n",
       "        [  0.        , 694.224292  , 318.21984931],\n",
       "        [  0.        ,   0.        ,   1.        ]]),\n",
       " array([[ 3.05070760e-03, -4.92009457e-01,  2.12421690e-03,\n",
       "          1.03882494e-03,  1.82300418e+00]]))"
      ]
     },
     "execution_count": 5,
     "metadata": {},
     "output_type": "execute_result"
    }
   ],
   "source": [
    "def calibrate(showPics = True):\n",
    "    root = os.getcwd()\n",
    "    calibrationDir = os.path.join(root, './StereoLeft/')\n",
    "    imgPathList = glob.glob(os.path.join(calibrationDir, \"*.png\"))\n",
    "\n",
    "    nRows = 9\n",
    "    nCols = 6\n",
    "\n",
    "    termCrteria = (cv.TERM_CRITERIA_EPS + cv.TermCriteria_MAX_ITER, 30, 0.001)\n",
    "    worldPtsCur = np.zeros((nRows*nCols, 3), np.float32)\n",
    "    worldPtsCur[:, :2] = np.mgrid[0:nRows, 0:nCols].T.reshape(-1,2)\n",
    "    worldPtsList = []\n",
    "    imgPtsList = []\n",
    "    i = 0\n",
    "    for curImgPath in imgPathList:\n",
    "        i += 1\n",
    "        imgBGR = cv.imread(curImgPath)\n",
    "        imgGray = cv.cvtColor(imgBGR, cv.COLOR_BGR2GRAY)\n",
    "        cornersFound, cornersOrg = cv.findChessboardCorners(imgGray, (nRows, nCols), None)\n",
    "\n",
    "        if cornersFound == True:\n",
    "            worldPtsList.append(worldPtsCur)\n",
    "            cornersRefined = cv.cornerSubPix(imgGray, cornersOrg, (11,11), (-1,-1), termCrteria)\n",
    "            imgPtsList.append(cornersRefined)\n",
    "            if showPics:\n",
    "                cv.drawChessboardCorners(imgBGR, (nRows, nCols), cornersRefined, cornersFound)\n",
    "                cv.imshow(\"chessboard\", imgBGR)\n",
    "                cv.imwrite(\"Image\"+str(i)+\".png\", imgBGR)\n",
    "                cv.waitKey(0)\n",
    "    cv.destroyAllWindows()\n",
    "\n",
    "    repError, camMatrix, distCoeff, rvecs, tvecs = cv.calibrateCamera(worldPtsList, imgPtsList, imgGray.shape[::-1], None, None)\n",
    "\n",
    "    print(\"Camera Matrix : \\n\", camMatrix)\n",
    "    \n",
    "    print(\"Distortion Matirx : \\n\", distCoeff)\n",
    "    print(\"Report Error (pixels) : {:.4f}\".format(repError))\n",
    "    curFolder = os.path.dirname(os.path.abspath(\"Images\"))\n",
    "    paramPath = os.path.join(curFolder, 'calibration.npz')\n",
    "    np.savez(paramPath, repError=repError, camMatrix=camMatrix, distCoeff=distCoeff, rvecs=rvecs, tvecs=tvecs)\n",
    "\n",
    "    return camMatrix, distCoeff\n",
    "\n",
    "calibrate()"
   ]
  },
  {
   "cell_type": "code",
   "execution_count": 6,
   "metadata": {},
   "outputs": [],
   "source": [
    "CHECKERBOARD = (9, 6)\n",
    "\n",
    "objp = np.zeros((CHECKERBOARD[0] * CHECKERBOARD[1], 3), np.float32)\n",
    "objp[:, :2] = np.mgrid[0:CHECKERBOARD[0], 0:CHECKERBOARD[1]].T.reshape(-1, 2)\n",
    "\n",
    "objpoints = []\n",
    "imgpoints_left = []\n",
    "imgpoints_right = []\n",
    "\n",
    "# Load images\n",
    "images_left = glob.glob('./StereoLeft/*.png')\n",
    "images_right = glob.glob('./StereoRight/*.png')\n",
    "\n",
    "# Check if number of images match\n",
    "assert len(images_left) == len(images_right), \"Mismatch between left and right images.\""
   ]
  },
  {
   "cell_type": "code",
   "execution_count": 7,
   "metadata": {},
   "outputs": [],
   "source": [
    "for left_img_path, right_img_path in zip(images_left, images_right):\n",
    "    left_img = cv.imread(left_img_path)\n",
    "    right_img = cv.imread(right_img_path)\n",
    "\n",
    "    gray_left = cv.cvtColor(left_img, cv.COLOR_BGR2GRAY)\n",
    "    gray_right = cv.cvtColor(right_img, cv.COLOR_BGR2GRAY)\n",
    "\n",
    "    # Find the checkerboard corners\n",
    "    ret_left, corners_left = cv.findChessboardCorners(gray_left, CHECKERBOARD, None)\n",
    "    ret_right, corners_right = cv.findChessboardCorners(gray_right, CHECKERBOARD, None)\n",
    "\n",
    "    if ret_left and ret_right:\n",
    "        objpoints.append(objp)\n",
    "        imgpoints_left.append(corners_left)\n",
    "        imgpoints_right.append(corners_right)"
   ]
  },
  {
   "cell_type": "code",
   "execution_count": 8,
   "metadata": {},
   "outputs": [
    {
     "ename": "",
     "evalue": "",
     "output_type": "error",
     "traceback": [
      "\u001b[1;31mThe Kernel crashed while executing code in the current cell or a previous cell. \n",
      "\u001b[1;31mPlease review the code in the cell(s) to identify a possible cause of the failure. \n",
      "\u001b[1;31mClick <a href='https://aka.ms/vscodeJupyterKernelCrash'>here</a> for more info. \n",
      "\u001b[1;31mView Jupyter <a href='command:jupyter.viewOutput'>log</a> for further details."
     ]
    }
   ],
   "source": [
    "ret_left, mtx_left, dist_left, rvecs_left, tvecs_left = cv.calibrateCamera(objpoints, imgpoints_left, gray_left.shape[::-1], None, None)\n",
    "ret_right, mtx_right, dist_right, rvecs_right, tvecs_right = cv.calibrateCamera(objpoints, imgpoints_right, gray_right.shape[::-1], None, None)\n",
    "\n",
    "flags = 0\n",
    "flags |= cv.CALIB_FIX_INTRINSIC\n",
    "retval, mtx_left, dist_left, mtx_right, dist_right, R, T, E, F = cv.stereoCalibrate(\n",
    "    objpoints, imgpoints_left, imgpoints_right, mtx_left, dist_left, mtx_right, dist_right, gray_left.shape[::-1], flags=flags)\n",
    "\n",
    "R1, R2, P1, P2, Q, roi_left, roi_right = cv.stereoRectify(\n",
    "    mtx_left, dist_left, mtx_right, dist_right, gray_left.shape[::-1], R, T)\n",
    "\n",
    "left_map_x, left_map_y = cv.initUndistortRectifyMap(mtx_left, dist_left, R1, P1, gray_left.shape[::-1], cv.CV_32FC1)\n",
    "right_map_x, right_map_y = cv.initUndistortRectifyMap(mtx_right, dist_right, R2, P2, gray_right.shape[::-1], cv.CV_32FC1)\n",
    "\n",
    "np.savez('USB_camera_data.npz',\n",
    "         left_map_x=left_map_x,\n",
    "         right_map_x=right_map_x,\n",
    "         left_map_y=left_map_y,\n",
    "         right_map_y=right_map_y)"
   ]
  }
 ],
 "metadata": {
  "kernelspec": {
   "display_name": "base",
   "language": "python",
   "name": "python3"
  },
  "language_info": {
   "codemirror_mode": {
    "name": "ipython",
    "version": 3
   },
   "file_extension": ".py",
   "mimetype": "text/x-python",
   "name": "python",
   "nbconvert_exporter": "python",
   "pygments_lexer": "ipython3",
   "version": "3.12.3"
  }
 },
 "nbformat": 4,
 "nbformat_minor": 2
}
