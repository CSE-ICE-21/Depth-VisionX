{
 "cells": [
  {
   "cell_type": "code",
   "execution_count": null,
   "metadata": {},
   "outputs": [],
   "source": [
    "import serial\n",
    "import time\n",
    "import numpy as np\n",
    "import cv2  # OpenCV to display the image"
   ]
  },
  {
   "cell_type": "code",
   "execution_count": null,
   "metadata": {},
   "outputs": [],
   "source": [
    "# Serial port is COM4\n",
    "ser = serial.Serial('COM4', 115200, timeout=1)\n",
    "\n",
    "# Wait for the ESP32 to start sending data\n",
    "time.sleep(2)\n",
    "\n",
    "# VGA 640x480\n",
    "image_width = 640\n",
    "image_height = 480\n",
    "\n",
    "while True:\n",
    "    # Read the image data from serial port\n",
    "    image_data = ser.read(image_width * image_height)  # Read raw data\n",
    "\n",
    "    # If we received enough data\n",
    "    if len(image_data) == image_width * image_height:\n",
    "        # Convert the data to a numpy array\n",
    "        image_array = np.frombuffer(image_data, dtype=np.uint8)\n",
    "        image_array = image_array.reshape((image_height, image_width))\n",
    "        break\n",
    "\n",
    "# Display the image using OpenCV\n",
    "cv2.imshow(\"OV7670 Image\", image_array)\n",
    "cv2.waitKey(1)\n",
    "ser.close()\n",
    "cv2.destroyAllWindows()\n"
   ]
  }
 ],
 "metadata": {
  "kernelspec": {
   "display_name": "base",
   "language": "python",
   "name": "python3"
  },
  "language_info": {
   "codemirror_mode": {
    "name": "ipython",
    "version": 3
   },
   "file_extension": ".py",
   "mimetype": "text/x-python",
   "name": "python",
   "nbconvert_exporter": "python",
   "pygments_lexer": "ipython3",
   "version": "3.12.3"
  }
 },
 "nbformat": 4,
 "nbformat_minor": 2
}
